{
  "nbformat": 4,
  "nbformat_minor": 0,
  "metadata": {
    "colab": {
      "name": "exe01_2020_09_25_read_validate.ipynb",
      "provenance": []
    },
    "kernelspec": {
      "name": "python3",
      "display_name": "Python 3"
    }
  },
  "cells": [
    {
      "cell_type": "markdown",
      "metadata": {
        "id": "7rdfMWbZNbKY"
      },
      "source": [
        "## COMPILADORES\n",
        "#### WESLEY DE OLIVEIRA MENDES - 828.507"
      ]
    },
    {
      "cell_type": "markdown",
      "metadata": {
        "id": "hfHXccCab8ZA"
      },
      "source": [
        "### Atividade:\n",
        "\n",
        "- Desenvolva um programa na linguagem de programação de sua preferência que reconheça as seguintes palavras:\n",
        "\n",
        "> ```\n",
        "> { a,b , uma sequência impar de c(s), d,e }\n",
        "> ```"
      ]
    },
    {
      "cell_type": "markdown",
      "metadata": {
        "id": "yGVblz3GcaRi"
      },
      "source": [
        "### 1. Definir o autômato (formal, incluindo a tabela de transição)."
      ]
    },
    {
      "cell_type": "markdown",
      "metadata": {
        "id": "lcmSF6nhrwRw"
      },
      "source": [
        "M = ( estados, alfabeto, transições, inicial, final )\n",
        "\n",
        "M = ( Q, Σ, δ, s, F )\n",
        "\n",
        "Q: { s0, s1, s2, s3, s4, s5, s6 }\n",
        "\n",
        "Σ: { a, b, c, d, e }\n",
        "\n",
        "δ: \n",
        "> |   δ    |   a   |   b   |   c   |   d   |   e   |\n",
        "> | :----: | :---: | :---: | :---: | :---: | :---: |\n",
        "> | **s0** | _s1_  |   -   |   -   |   -   |   -   |\n",
        "> | **s1** |   -   | _s2_  |   -   |   -   |   -   |\n",
        "> | **s2** |   -   |   -   | _s3_  |   -   |   -   |\n",
        "> | **s3** |   -   |   -   | _s4_  | _s5_  |   -   |\n",
        "> | **s4** |   -   |   -   | _s3_  |   -   |   -   |\n",
        "> | **s5** |   -   |   -   |   -   |   -   | _s6_  |\n",
        "> | **s6** |   -   |   -   |   -   |   -   |   -   |\n",
        "\n",
        "s: { s0 }\n",
        "\n",
        "F: { s6 }"
      ]
    },
    {
      "cell_type": "markdown",
      "metadata": {
        "id": "NhlcrEK4cWOU"
      },
      "source": [
        "### 2. Escrever o programa que irá ler as palavras e validá-las por meio deste autômato."
      ]
    },
    {
      "cell_type": "markdown",
      "metadata": {
        "id": "9oDIeXduQE5-"
      },
      "source": [
        "#### Pytest"
      ]
    },
    {
      "cell_type": "code",
      "metadata": {
        "id": "Sd6DTQCmjMi6"
      },
      "source": [
        "!pip -q install pytest pytest-sugar\n",
        "\n",
        "# move to tdd directory\n",
        "from pathlib import Path\n",
        "if Path.cwd().name != 'tdd':\n",
        "    %mkdir tdd\n",
        "    %cd tdd\n",
        "\n",
        "%pwd\n",
        "\n",
        "# cleanup all files\n",
        "%rm *.py"
      ],
      "execution_count": 9,
      "outputs": []
    },
    {
      "cell_type": "markdown",
      "metadata": {
        "id": "pMLm6-kyQG9s"
      },
      "source": [
        "#### Main Code"
      ]
    },
    {
      "cell_type": "code",
      "metadata": {
        "id": "GYN_5BzvAQdt",
        "outputId": "e2844559-494e-4e6e-9a1f-9443aa41a3be",
        "colab": {
          "base_uri": "https://localhost:8080/",
          "height": 36
        }
      },
      "source": [
        "%%file main.py\n",
        "\n",
        "\n",
        "class Automato:\n",
        "\n",
        "    def __init__(self, values):\n",
        "        self.values = values\n",
        "        self.size = self.validate_entry()\n",
        "        self.states = {}\n",
        "        self.count_c = 0\n",
        "\n",
        "    def validate_entry(self):\n",
        "        size = len(self.values)\n",
        "        if size >= 5:\n",
        "            return size\n",
        "        return self.fail()\n",
        "\n",
        "    def run(self):\n",
        "        for k, v in enumerate(self.values):\n",
        "\n",
        "            if not self.alphabet(v):\n",
        "                break\n",
        "\n",
        "            self.validate_transitions(v, k)\n",
        "        return self.final()\n",
        "\n",
        "    def alphabet(self, value):\n",
        "        return True if value in 'abcde' else False\n",
        "\n",
        "    def validate_transitions(self, value, index):\n",
        "        if value == 'a' and index == 0:\n",
        "            self.states.update({f's{index}': value})\n",
        "\n",
        "        if value == 'b' and index == 1:\n",
        "            self.states.update({f's{index}': value})\n",
        "\n",
        "        if value == 'c':\n",
        "            self.states.update({f's{index}': value})\n",
        "            self.count_c += 1\n",
        "\n",
        "        if value == 'd':\n",
        "            self.states.update({f's{index}': value})\n",
        "\n",
        "        if value == 'e':\n",
        "            self.states.update({f's{index}': value})\n",
        "            return\n",
        "\n",
        "    def final(self):\n",
        "        if len(self.states) != self.size:\n",
        "            return self.fail()\n",
        "\n",
        "        if self.count_c % 2 == 0:\n",
        "            return self.fail()\n",
        "        return self.success()\n",
        "\n",
        "    def success(self):\n",
        "        return {'status': 200, 'result': 'Autômato válido!'}\n",
        "\n",
        "    def fail(self):\n",
        "        return {'status': 400, 'result': 'Autômato NÃO válido!'}"
      ],
      "execution_count": 10,
      "outputs": [
        {
          "output_type": "stream",
          "text": [
            "Writing main.py\n"
          ],
          "name": "stdout"
        }
      ]
    },
    {
      "cell_type": "markdown",
      "metadata": {
        "id": "dv4GlR3kQJ9q"
      },
      "source": [
        "#### Tests"
      ]
    },
    {
      "cell_type": "code",
      "metadata": {
        "id": "HRCksFNO0A9R",
        "outputId": "293dd015-a842-4281-874d-264e3b4e3153",
        "colab": {
          "base_uri": "https://localhost:8080/",
          "height": 36
        }
      },
      "source": [
        "%%file test_main.py\n",
        "\n",
        "\n",
        "import pytest\n",
        "from main import Automato\n",
        "\n",
        "\n",
        "@pytest.mark.parametrize('value,result', \n",
        "    [('abcde', 200), \n",
        "     ('abccde', 400), \n",
        "     ('abcccccde', 200), \n",
        "     ('edcccba', 400), \n",
        "     ('abcccccccde', 200), \n",
        "     ('aabbccdd', 400), \n",
        "     ('abcccde', 200), \n",
        "     ('asdfas', 400)]\n",
        ")\n",
        "def test_is_automato_valid(value, result):\n",
        "    assert Automato(value).run()['status'] == result"
      ],
      "execution_count": 11,
      "outputs": [
        {
          "output_type": "stream",
          "text": [
            "Writing test_main.py\n"
          ],
          "name": "stdout"
        }
      ]
    },
    {
      "cell_type": "code",
      "metadata": {
        "id": "2YYB7fzbt3qI",
        "outputId": "a15f9741-ce95-451d-9ba4-25858086562e",
        "colab": {
          "base_uri": "https://localhost:8080/",
          "height": 167
        }
      },
      "source": [
        "!python3 -m pytest test_main.py"
      ],
      "execution_count": 12,
      "outputs": [
        {
          "output_type": "stream",
          "text": [
            "\u001b[1mTest session starts (platform: linux, Python 3.6.9, pytest 3.6.4, pytest-sugar 0.9.4)\u001b[0m\n",
            "rootdir: /content/tdd, inifile:\n",
            "plugins: typeguard-2.7.1, sugar-0.9.4\n",
            "\r\n",
            "\r \u001b[36m\u001b[0mtest_main.py\u001b[0m \u001b[32m✓\u001b[0m                                                   \u001b[32m12% \u001b[0m\u001b[40m\u001b[32m█\u001b[0m\u001b[40m\u001b[32m▍        \u001b[0m\r \u001b[36m\u001b[0mtest_main.py\u001b[0m \u001b[32m✓\u001b[0m\u001b[32m✓\u001b[0m                                                  \u001b[32m25% \u001b[0m\u001b[40m\u001b[32m█\u001b[0m\u001b[40m\u001b[32m█\u001b[0m\u001b[40m\u001b[32m▌       \u001b[0m\r \u001b[36m\u001b[0mtest_main.py\u001b[0m \u001b[32m✓\u001b[0m\u001b[32m✓\u001b[0m\u001b[32m✓\u001b[0m                                                 \u001b[32m38% \u001b[0m\u001b[40m\u001b[32m█\u001b[0m\u001b[40m\u001b[32m█\u001b[0m\u001b[40m\u001b[32m█\u001b[0m\u001b[40m\u001b[32m▊      \u001b[0m\r \u001b[36m\u001b[0mtest_main.py\u001b[0m \u001b[32m✓\u001b[0m\u001b[32m✓\u001b[0m\u001b[32m✓\u001b[0m\u001b[32m✓\u001b[0m                                                \u001b[32m50% \u001b[0m\u001b[40m\u001b[32m█\u001b[0m\u001b[40m\u001b[32m█\u001b[0m\u001b[40m\u001b[32m█\u001b[0m\u001b[40m\u001b[32m█\u001b[0m\u001b[40m\u001b[32m█     \u001b[0m\r \u001b[36m\u001b[0mtest_main.py\u001b[0m \u001b[32m✓\u001b[0m\u001b[32m✓\u001b[0m\u001b[32m✓\u001b[0m\u001b[32m✓\u001b[0m\u001b[32m✓\u001b[0m                                               \u001b[32m62% \u001b[0m\u001b[40m\u001b[32m█\u001b[0m\u001b[40m\u001b[32m█\u001b[0m\u001b[40m\u001b[32m█\u001b[0m\u001b[40m\u001b[32m█\u001b[0m\u001b[40m\u001b[32m█\u001b[0m\u001b[40m\u001b[32m█\u001b[0m\u001b[40m\u001b[32m▍   \u001b[0m\r \u001b[36m\u001b[0mtest_main.py\u001b[0m \u001b[32m✓\u001b[0m\u001b[32m✓\u001b[0m\u001b[32m✓\u001b[0m\u001b[32m✓\u001b[0m\u001b[32m✓\u001b[0m\u001b[32m✓\u001b[0m                                              \u001b[32m75% \u001b[0m\u001b[40m\u001b[32m█\u001b[0m\u001b[40m\u001b[32m█\u001b[0m\u001b[40m\u001b[32m█\u001b[0m\u001b[40m\u001b[32m█\u001b[0m\u001b[40m\u001b[32m█\u001b[0m\u001b[40m\u001b[32m█\u001b[0m\u001b[40m\u001b[32m█\u001b[0m\u001b[40m\u001b[32m▌  \u001b[0m\r \u001b[36m\u001b[0mtest_main.py\u001b[0m \u001b[32m✓\u001b[0m\u001b[32m✓\u001b[0m\u001b[32m✓\u001b[0m\u001b[32m✓\u001b[0m\u001b[32m✓\u001b[0m\u001b[32m✓\u001b[0m\u001b[32m✓\u001b[0m                                             \u001b[32m88% \u001b[0m\u001b[40m\u001b[32m█\u001b[0m\u001b[40m\u001b[32m█\u001b[0m\u001b[40m\u001b[32m█\u001b[0m\u001b[40m\u001b[32m█\u001b[0m\u001b[40m\u001b[32m█\u001b[0m\u001b[40m\u001b[32m█\u001b[0m\u001b[40m\u001b[32m█\u001b[0m\u001b[40m\u001b[32m█\u001b[0m\u001b[40m\u001b[32m▊ \u001b[0m\r \u001b[36m\u001b[0mtest_main.py\u001b[0m \u001b[32m✓\u001b[0m\u001b[32m✓\u001b[0m\u001b[32m✓\u001b[0m\u001b[32m✓\u001b[0m\u001b[32m✓\u001b[0m\u001b[32m✓\u001b[0m\u001b[32m✓\u001b[0m\u001b[32m✓\u001b[0m                                           \u001b[32m100% \u001b[0m\u001b[40m\u001b[32m█\u001b[0m\u001b[40m\u001b[32m█\u001b[0m\u001b[40m\u001b[32m█\u001b[0m\u001b[40m\u001b[32m█\u001b[0m\u001b[40m\u001b[32m█\u001b[0m\u001b[40m\u001b[32m█\u001b[0m\u001b[40m\u001b[32m█\u001b[0m\u001b[40m\u001b[32m█\u001b[0m\u001b[40m\u001b[32m█\u001b[0m\u001b[40m\u001b[32m█\u001b[0m\n",
            "\n",
            "Results (0.04s):\n",
            "\u001b[32m       8 passed\u001b[0m\n"
          ],
          "name": "stdout"
        }
      ]
    },
    {
      "cell_type": "code",
      "metadata": {
        "id": "D17KtEfJAjSu"
      },
      "source": [
        ""
      ],
      "execution_count": 12,
      "outputs": []
    }
  ]
}